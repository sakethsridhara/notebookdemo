{
 "cells": [
  {
   "cell_type": "code",
   "execution_count": null,
   "id": "40357149",
   "metadata": {},
   "outputs": [],
   "source": [
    "import matplotlib.pyplot as plt\n",
    "import numpy as np\n",
    "import ipywidgets as widgets\n",
    "from IPython.display import display, IFrame\n",
    "\n",
    "x = np.linspace(0,4*np.pi,100)\n",
    "\n",
    "ysin = np.sin(x)\n",
    "ycos = np.cos(x)\n",
    "\n",
    "dropdown = widgets.Dropdown(\n",
    "    options = ['sine graph','cosine graph'],\n",
    "    value = 'sine graph',\n",
    "    description = 'function'\n",
    ")\n",
    "\n",
    "def plot(func):\n",
    "    if func=='sine graph':\n",
    "        plt.plot(x,ysin)\n",
    "    elif func=='cosine graph':\n",
    "        plt.plot(x,ycos)\n",
    "    # plt.show()\n",
    "    \n",
    "graph = widgets.interactive(plot,func=dropdown)\n",
    "display(graph)"
   ]
  }
 ],
 "metadata": {
  "kernelspec": {
   "display_name": "Python 3 (ipykernel)",
   "language": "python",
   "name": "python3"
  },
  "language_info": {
   "codemirror_mode": {
    "name": "ipython",
    "version": 3
   },
   "file_extension": ".py",
   "mimetype": "text/x-python",
   "name": "python",
   "nbconvert_exporter": "python",
   "pygments_lexer": "ipython3",
   "version": "3.9.12"
  }
 },
 "nbformat": 4,
 "nbformat_minor": 5
}
