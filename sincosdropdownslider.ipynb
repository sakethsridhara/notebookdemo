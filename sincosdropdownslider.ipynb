{
 "cells": [
  {
   "cell_type": "code",
   "execution_count": 1,
   "id": "40357149",
   "metadata": {},
   "outputs": [
    {
     "data": {
      "application/vnd.jupyter.widget-view+json": {
       "model_id": "19b3fe46dd794f13ac74c36d4930fa1d",
       "version_major": 2,
       "version_minor": 0
      },
      "text/plain": [
       "interactive(children=(Dropdown(description='function', options=('sine graph', 'cosine graph'), value='sine gra…"
      ]
     },
     "metadata": {},
     "output_type": "display_data"
    }
   ],
   "source": [
    "import matplotlib.pyplot as plt\n",
    "import numpy as np\n",
    "import ipywidgets as widgets\n",
    "from IPython.display import display \n",
    "\n",
    "x = np.linspace(0, 4 * np.pi, 100)\n",
    "\n",
    "ysin = np.sin(x)\n",
    "ycos = np.cos(x)\n",
    "\n",
    "dropdown = widgets.Dropdown(\n",
    "    options=['sine graph', 'cosine graph'],\n",
    "    value='sine graph',\n",
    "    description='function'\n",
    ")\n",
    "\n",
    "slider_a = widgets.FloatSlider(\n",
    "    value=0,\n",
    "    min=-1,\n",
    "    max=1,\n",
    "    step=0.1,\n",
    "    description='A',\n",
    "    continuous_update=False\n",
    ")\n",
    "\n",
    "def plot(func, A):\n",
    "    if func == 'sine graph':\n",
    "        plt.plot(x, np.sin(A * x))\n",
    "    elif func == 'cosine graph':\n",
    "        plt.plot(x, np.cos(A * x))\n",
    "    plt.show()\n",
    "\n",
    "graph = widgets.interactive(plot, func=dropdown, A=slider_a)\n",
    "display(graph)"
   ]
  },
  {
   "cell_type": "code",
   "execution_count": null,
   "id": "b5c0648b",
   "metadata": {},
   "outputs": [],
   "source": []
  },
  {
   "cell_type": "code",
   "execution_count": null,
   "id": "d1f5ee1a",
   "metadata": {},
   "outputs": [],
   "source": []
  }
 ],
 "metadata": {
  "kernelspec": {
   "display_name": "Python 3 (ipykernel)",
   "language": "python",
   "name": "python3"
  },
  "language_info": {
   "codemirror_mode": {
    "name": "ipython",
    "version": 3
   },
   "file_extension": ".py",
   "mimetype": "text/x-python",
   "name": "python",
   "nbconvert_exporter": "python",
   "pygments_lexer": "ipython3",
   "version": "3.9.12"
  }
 },
 "nbformat": 4,
 "nbformat_minor": 5
}
